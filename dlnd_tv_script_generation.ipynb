{
 "cells": [
  {
   "cell_type": "markdown",
   "metadata": {
    "deletable": true,
    "editable": true
   },
   "source": [
    "# TV Script Generation\n",
    "In this project, you'll generate your own [Simpsons](https://en.wikipedia.org/wiki/The_Simpsons) TV scripts using RNNs.  You'll be using part of the [Simpsons dataset](https://www.kaggle.com/wcukierski/the-simpsons-by-the-data) of scripts from 27 seasons.  The Neural Network you'll build will generate a new TV script for a scene at [Moe's Tavern](https://simpsonswiki.com/wiki/Moe's_Tavern).\n",
    "## Get the Data\n",
    "The data is already provided for you.  You'll be using a subset of the original dataset.  It consists of only the scenes in Moe's Tavern.  This doesn't include other versions of the tavern, like \"Moe's Cavern\", \"Flaming Moe's\", \"Uncle Moe's Family Feed-Bag\", etc.."
   ]
  },
  {
   "cell_type": "code",
   "execution_count": 1,
   "metadata": {
    "collapsed": false,
    "deletable": true,
    "editable": true
   },
   "outputs": [],
   "source": [
    "\"\"\"\n",
    "DON'T MODIFY ANYTHING IN THIS CELL\n",
    "\"\"\"\n",
    "import helper\n",
    "\n",
    "data_dir = './data/simpsons/moes_tavern_lines.txt'\n",
    "text = helper.load_data(data_dir)\n",
    "# Ignore notice, since we don't use it for analysing the data\n",
    "text = text[81:]"
   ]
  },
  {
   "cell_type": "markdown",
   "metadata": {
    "deletable": true,
    "editable": true
   },
   "source": [
    "## Explore the Data\n",
    "Play around with `view_sentence_range` to view different parts of the data."
   ]
  },
  {
   "cell_type": "code",
   "execution_count": 2,
   "metadata": {
    "collapsed": false,
    "deletable": true,
    "editable": true
   },
   "outputs": [
    {
     "name": "stdout",
     "output_type": "stream",
     "text": [
      "Dataset Stats\n",
      "Roughly the number of unique words: 11492\n",
      "Number of scenes: 262\n",
      "Average number of sentences in each scene: 15.248091603053435\n",
      "Number of lines: 4257\n",
      "Average number of words in each line: 11.50434578341555\n",
      "\n",
      "The sentences 15 to 45:\n",
      "Homer_Simpson: Lousy. He just sits there all day. He'd have a great job if he didn't own the place. (CHUCKLES)\n",
      "Moe_Szyslak: (STRUGGLING WITH CORKSCREW) Crummy right-handed corkscrews! What does he sell?\n",
      "Homer_Simpson: Uh, well actually, Moe...\n",
      "HOMER_(CONT'D: I dunno.\n",
      "\n",
      "\n",
      "Moe_Szyslak: Looks like this is the end.\n",
      "Barney_Gumble: That's all right. I couldn't have led a richer life.\n",
      "Barney_Gumble: So the next time somebody tells you county folk are good, honest people, you can spit in their faces for me!\n",
      "Lisa_Simpson: I will, Mr. Gumbel. But if you'll excuse me, I'm profiling my dad for the school paper. I thought it would be neat to follow him around for a day to see what makes him tick.\n",
      "Barney_Gumble: Oh, that's sweet. I used to follow my dad to a lot of bars too. (BELCH)\n",
      "Moe_Szyslak: Here you go. One beer, one chocolate milk.\n",
      "Lisa_Simpson: Uh, excuse me, I have the chocolate milk.\n",
      "Moe_Szyslak: Oh.\n",
      "Moe_Szyslak: What's the matter, Homer? The depressin' effects of alcohol usually don't kick in 'til closing time.\n",
      "Lisa_Simpson: He's just a little nervous. (PROUDLY) He has to give a speech tomorrow on \"How To Keep Cool In A Crisis.\"\n",
      "Homer_Simpson: (SOBS) What am I gonna do? What am I gonna do?\n",
      "Barney_Gumble: Hey, I had to give a speech once. I was pretty nervous, so I used a little trick. I pictured everyone in their underwear. The judge, the jury, my lawyer, everybody.\n",
      "Homer_Simpson: Did it work?\n",
      "Barney_Gumble: I'm a free man, ain't I?\n",
      "Barney_Gumble: Whoa!\n",
      "Barney_Gumble: Huh? A pretzel? Wow, looks like I pulled a Homer!\n",
      "\n",
      "\n",
      "Patrons: (MUMBLING, NOT IN UNISON) Happy thoughts... happy thoughts... we love that boy.\n",
      "Moe_Szyslak: (INTO PHONE) Moe's Tavern. Hold on, I'll check. ... (LOUD) Hey everybody! I'm a stupid moron with an ugly face and a big butt, and my butt smells, and I like to kiss my own butt.\n",
      "Barney_Gumble: That's a new one (LAUGHING).\n",
      "Moe_Szyslak: Now wait a minute...\n",
      "\n",
      "\n"
     ]
    }
   ],
   "source": [
    "view_sentence_range = (15, 45)\n",
    "\n",
    "\"\"\"\n",
    "DON'T MODIFY ANYTHING IN THIS CELL\n",
    "\"\"\"\n",
    "import numpy as np\n",
    "\n",
    "print('Dataset Stats')\n",
    "print('Roughly the number of unique words: {}'.format(len({word: None for word in text.split()})))\n",
    "scenes = text.split('\\n\\n')\n",
    "print('Number of scenes: {}'.format(len(scenes)))\n",
    "sentence_count_scene = [scene.count('\\n') for scene in scenes]\n",
    "print('Average number of sentences in each scene: {}'.format(np.average(sentence_count_scene)))\n",
    "\n",
    "sentences = [sentence for scene in scenes for sentence in scene.split('\\n')]\n",
    "print('Number of lines: {}'.format(len(sentences)))\n",
    "word_count_sentence = [len(sentence.split()) for sentence in sentences]\n",
    "print('Average number of words in each line: {}'.format(np.average(word_count_sentence)))\n",
    "\n",
    "print()\n",
    "print('The sentences {} to {}:'.format(*view_sentence_range))\n",
    "print('\\n'.join(text.split('\\n')[view_sentence_range[0]:view_sentence_range[1]]))"
   ]
  },
  {
   "cell_type": "markdown",
   "metadata": {
    "deletable": true,
    "editable": true
   },
   "source": [
    "## Implement Preprocessing Functions\n",
    "The first thing to do to any dataset is preprocessing.  Implement the following preprocessing functions below:\n",
    "- Lookup Table\n",
    "- Tokenize Punctuation\n",
    "\n",
    "### Lookup Table\n",
    "To create a word embedding, you first need to transform the words to ids.  In this function, create two dictionaries:\n",
    "- Dictionary to go from the words to an id, we'll call `vocab_to_int`\n",
    "- Dictionary to go from the id to word, we'll call `int_to_vocab`\n",
    "\n",
    "Return these dictionaries in the following tuple `(vocab_to_int, int_to_vocab)`"
   ]
  },
  {
   "cell_type": "code",
   "execution_count": 3,
   "metadata": {
    "collapsed": false,
    "deletable": true,
    "editable": true
   },
   "outputs": [
    {
     "name": "stdout",
     "output_type": "stream",
     "text": [
      "Tests Passed\n"
     ]
    }
   ],
   "source": [
    "import numpy as np\n",
    "import problem_unittests as tests\n",
    "from collections import Counter\n",
    "\n",
    "def create_lookup_tables(text):\n",
    "    \"\"\"\n",
    "    Create lookup tables for vocabulary\n",
    "    :param text: The text of tv scripts split into words\n",
    "    :return: A tuple of dicts (vocab_to_int, int_to_vocab)\n",
    "    \"\"\"\n",
    "\n",
    "    \"\"\"# Solution 1\n",
    "    # Dictionaries for word to int and int to word \n",
    "    counts = Counter(text)\n",
    "    vocab = sorted(counts, key=counts.get, reverse=False)\n",
    "    \n",
    "    vocab_to_int = {word: ii for ii, word in enumerate(vocab, 1)}\n",
    "    \n",
    "    int_to_vocab = {ii: word for ii, word in enumerate(vocab, 1)}\n",
    "    \"\"\"\n",
    "    \n",
    "    # Solution 2 - more efficient\n",
    "    vocab = set(text)\n",
    "    vocab_to_int = {word: i for i, word in enumerate(vocab)}\n",
    "    int_to_vocab = dict(enumerate(vocab))\n",
    "    \n",
    "    return vocab_to_int, int_to_vocab\n",
    "\n",
    "\n",
    "\"\"\"\n",
    "DON'T MODIFY ANYTHING IN THIS CELL THAT IS BELOW THIS LINE\n",
    "\"\"\"\n",
    "tests.test_create_lookup_tables(create_lookup_tables)"
   ]
  },
  {
   "cell_type": "markdown",
   "metadata": {
    "deletable": true,
    "editable": true
   },
   "source": [
    "### Tokenize Punctuation\n",
    "We'll be splitting the script into a word array using spaces as delimiters.  However, punctuations like periods and exclamation marks make it hard for the neural network to distinguish between the word \"bye\" and \"bye!\".\n",
    "\n",
    "Implement the function `token_lookup` to return a dict that will be used to tokenize symbols like \"!\" into \"||Exclamation_Mark||\".  Create a dictionary for the following symbols where the symbol is the key and value is the token:\n",
    "- Period ( . )\n",
    "- Comma ( , )\n",
    "- Quotation Mark ( \" )\n",
    "- Semicolon ( ; )\n",
    "- Exclamation mark ( ! )\n",
    "- Question mark ( ? )\n",
    "- Left Parentheses ( ( )\n",
    "- Right Parentheses ( ) )\n",
    "- Dash ( -- )\n",
    "- Return ( \\n )\n",
    "\n",
    "This dictionary will be used to token the symbols and add the delimiter (space) around it.  This separates the symbols as it's own word, making it easier for the neural network to predict on the next word. Make sure you don't use a token that could be confused as a word. Instead of using the token \"dash\", try using something like \"||dash||\"."
   ]
  },
  {
   "cell_type": "code",
   "execution_count": 4,
   "metadata": {
    "collapsed": false,
    "deletable": true,
    "editable": true
   },
   "outputs": [
    {
     "name": "stdout",
     "output_type": "stream",
     "text": [
      "Tests Passed\n"
     ]
    }
   ],
   "source": [
    "def token_lookup():\n",
    "    \"\"\"\n",
    "    Generate a dict to turn punctuation into a token.\n",
    "    :return: Tokenize dictionary where the key is the punctuation and the value is the token\n",
    "    \"\"\"\n",
    "    punc_dict = {'.': '||Period||', ',': '||Comma||', '\"': '||Quotation_Mark||', \n",
    "                ';': '||Semicolon||', '!': '||Exclamation_Mark||', '?': '||Question_Mark||', \n",
    "                '(': '||Left_Parentheses||', ')': '||Right_Parantheses||', '--': '||Dash||', \n",
    "                '\\n': '||Return||'}\n",
    "    return punc_dict\n",
    "\n",
    "\"\"\"\n",
    "DON'T MODIFY ANYTHING IN THIS CELL THAT IS BELOW THIS LINE\n",
    "\"\"\"\n",
    "tests.test_tokenize(token_lookup)"
   ]
  },
  {
   "cell_type": "markdown",
   "metadata": {
    "deletable": true,
    "editable": true
   },
   "source": [
    "## Preprocess all the data and save it\n",
    "Running the code cell below will preprocess all the data and save it to file."
   ]
  },
  {
   "cell_type": "code",
   "execution_count": 5,
   "metadata": {
    "collapsed": false,
    "deletable": true,
    "editable": true
   },
   "outputs": [],
   "source": [
    "\"\"\"\n",
    "DON'T MODIFY ANYTHING IN THIS CELL\n",
    "\"\"\"\n",
    "# Preprocess Training, Validation, and Testing Data\n",
    "helper.preprocess_and_save_data(data_dir, token_lookup, create_lookup_tables)"
   ]
  },
  {
   "cell_type": "markdown",
   "metadata": {
    "deletable": true,
    "editable": true
   },
   "source": [
    "# Check Point\n",
    "This is your first checkpoint. If you ever decide to come back to this notebook or have to restart the notebook, you can start from here. The preprocessed data has been saved to disk."
   ]
  },
  {
   "cell_type": "code",
   "execution_count": 6,
   "metadata": {
    "collapsed": false,
    "deletable": true,
    "editable": true
   },
   "outputs": [],
   "source": [
    "\"\"\"\n",
    "DON'T MODIFY ANYTHING IN THIS CELL\n",
    "\"\"\"\n",
    "import helper\n",
    "import numpy as np\n",
    "import problem_unittests as tests\n",
    "\n",
    "int_text, vocab_to_int, int_to_vocab, token_dict = helper.load_preprocess()"
   ]
  },
  {
   "cell_type": "markdown",
   "metadata": {
    "deletable": true,
    "editable": true
   },
   "source": [
    "## Build the Neural Network\n",
    "You'll build the components necessary to build a RNN by implementing the following functions below:\n",
    "- get_inputs\n",
    "- get_init_cell\n",
    "- get_embed\n",
    "- build_rnn\n",
    "- build_nn\n",
    "- get_batches\n",
    "\n",
    "### Check the Version of TensorFlow and Access to GPU"
   ]
  },
  {
   "cell_type": "code",
   "execution_count": 7,
   "metadata": {
    "collapsed": false,
    "deletable": true,
    "editable": true
   },
   "outputs": [
    {
     "name": "stdout",
     "output_type": "stream",
     "text": [
      "TensorFlow Version: 1.0.0\n",
      "Default GPU Device: /gpu:0\n"
     ]
    }
   ],
   "source": [
    "\"\"\"\n",
    "DON'T MODIFY ANYTHING IN THIS CELL\n",
    "\"\"\"\n",
    "from distutils.version import LooseVersion\n",
    "import warnings\n",
    "import tensorflow as tf\n",
    "\n",
    "# Check TensorFlow Version\n",
    "assert LooseVersion(tf.__version__) >= LooseVersion('1.0'), 'Please use TensorFlow version 1.0 or newer'\n",
    "print('TensorFlow Version: {}'.format(tf.__version__))\n",
    "\n",
    "# Check for a GPU\n",
    "if not tf.test.gpu_device_name():\n",
    "    warnings.warn('No GPU found. Please use a GPU to train your neural network.')\n",
    "else:\n",
    "    print('Default GPU Device: {}'.format(tf.test.gpu_device_name()))"
   ]
  },
  {
   "cell_type": "markdown",
   "metadata": {
    "deletable": true,
    "editable": true
   },
   "source": [
    "### Input\n",
    "Implement the `get_inputs()` function to create TF Placeholders for the Neural Network.  It should create the following placeholders:\n",
    "- Input text placeholder named \"input\" using the [TF Placeholder](https://www.tensorflow.org/api_docs/python/tf/placeholder) `name` parameter.\n",
    "- Targets placeholder\n",
    "- Learning Rate placeholder\n",
    "\n",
    "Return the placeholders in the following the tuple `(Input, Targets, LearingRate)`"
   ]
  },
  {
   "cell_type": "code",
   "execution_count": 8,
   "metadata": {
    "collapsed": false,
    "deletable": true,
    "editable": true
   },
   "outputs": [
    {
     "name": "stdout",
     "output_type": "stream",
     "text": [
      "Tests Passed\n"
     ]
    }
   ],
   "source": [
    "def get_inputs():\n",
    "    \"\"\"\n",
    "    Create TF Placeholders for input, targets, and learning rate.\n",
    "    :return: Tuple (input, targets, learning rate)\n",
    "    \"\"\"\n",
    "    # TODO: Implement Function\n",
    "    \n",
    "    input = tf.placeholder(tf.int32, [None, None], name='input')\n",
    "    targets = tf.placeholder(tf.int32, [None, None], name='targets')\n",
    "    learning_rate = tf.placeholder(tf.float32, name='learning_rate')\n",
    "    \n",
    "    return input, targets, learning_rate\n",
    "\n",
    "\n",
    "\"\"\"\n",
    "DON'T MODIFY ANYTHING IN THIS CELL THAT IS BELOW THIS LINE\n",
    "\"\"\"\n",
    "tests.test_get_inputs(get_inputs)"
   ]
  },
  {
   "cell_type": "markdown",
   "metadata": {
    "deletable": true,
    "editable": true
   },
   "source": [
    "### Build RNN Cell and Initialize\n",
    "Stack one or more [`BasicLSTMCells`](https://www.tensorflow.org/api_docs/python/tf/contrib/rnn/BasicLSTMCell) in a [`MultiRNNCell`](https://www.tensorflow.org/api_docs/python/tf/contrib/rnn/MultiRNNCell).\n",
    "- The Rnn size should be set using `rnn_size`\n",
    "- Initalize Cell State using the MultiRNNCell's [`zero_state()`](https://www.tensorflow.org/api_docs/python/tf/contrib/rnn/MultiRNNCell#zero_state) function\n",
    "    - Apply the name \"initial_state\" to the initial state using [`tf.identity()`](https://www.tensorflow.org/api_docs/python/tf/identity)\n",
    "\n",
    "Return the cell and initial state in the following tuple `(Cell, InitialState)`"
   ]
  },
  {
   "cell_type": "code",
   "execution_count": 9,
   "metadata": {
    "collapsed": false,
    "deletable": true,
    "editable": true
   },
   "outputs": [
    {
     "name": "stdout",
     "output_type": "stream",
     "text": [
      "Tests Passed\n"
     ]
    }
   ],
   "source": [
    "def get_init_cell(batch_size, rnn_size):\n",
    "    \"\"\"\n",
    "    Create an RNN Cell and initialize it.\n",
    "    :param batch_size: Size of batches\n",
    "    :param rnn_size: Size of RNNs\n",
    "    :return: Tuple (cell, initialize state)\n",
    "    \"\"\"\n",
    "    lstm = tf.contrib.rnn.BasicLSTMCell(rnn_size)\n",
    "    drop = tf.contrib.rnn.DropoutWrapper(lstm, output_keep_prob=0.8)\n",
    "    cell = tf.contrib.rnn.MultiRNNCell([drop] * 5)\n",
    "\n",
    "    initial_state = cell.zero_state(batch_size, tf.float32)\n",
    "    initial_state = tf.identity(initial_state, name='initial_state')\n",
    "    \n",
    "    return cell, initial_state\n",
    "\n",
    "\n",
    "\"\"\"\n",
    "DON'T MODIFY ANYTHING IN THIS CELL THAT IS BELOW THIS LINE\n",
    "\"\"\"\n",
    "tests.test_get_init_cell(get_init_cell)"
   ]
  },
  {
   "cell_type": "markdown",
   "metadata": {
    "deletable": true,
    "editable": true
   },
   "source": [
    "### Word Embedding\n",
    "Apply embedding to `input_data` using TensorFlow.  Return the embedded sequence."
   ]
  },
  {
   "cell_type": "code",
   "execution_count": 10,
   "metadata": {
    "collapsed": false,
    "deletable": true,
    "editable": true
   },
   "outputs": [
    {
     "name": "stdout",
     "output_type": "stream",
     "text": [
      "Tests Passed\n"
     ]
    }
   ],
   "source": [
    "def get_embed(input_data, vocab_size, embed_dim):\n",
    "    \"\"\"\n",
    "    Create embedding for <input_data>.\n",
    "    :param input_data: TF placeholder for text input.\n",
    "    :param vocab_size: Number of words in vocabulary.\n",
    "    :param embed_dim: Number of embedding dimensions\n",
    "    :return: Embedded input.\n",
    "    \"\"\"\n",
    "    \n",
    "    embedding = tf.Variable(tf.random_uniform((vocab_size, embed_dim), -1, 1))\n",
    "    embed = tf.nn.embedding_lookup(embedding, input_data)\n",
    "    \n",
    "    return embed\n",
    "\n",
    "\n",
    "\"\"\"\n",
    "DON'T MODIFY ANYTHING IN THIS CELL THAT IS BELOW THIS LINE\n",
    "\"\"\"\n",
    "tests.test_get_embed(get_embed)"
   ]
  },
  {
   "cell_type": "markdown",
   "metadata": {
    "deletable": true,
    "editable": true
   },
   "source": [
    "### Build RNN\n",
    "You created a RNN Cell in the `get_init_cell()` function.  Time to use the cell to create a RNN.\n",
    "- Build the RNN using the [`tf.nn.dynamic_rnn()`](https://www.tensorflow.org/api_docs/python/tf/nn/dynamic_rnn)\n",
    " - Apply the name \"final_state\" to the final state using [`tf.identity()`](https://www.tensorflow.org/api_docs/python/tf/identity)\n",
    "\n",
    "Return the outputs and final_state state in the following tuple `(Outputs, FinalState)` "
   ]
  },
  {
   "cell_type": "code",
   "execution_count": 11,
   "metadata": {
    "collapsed": false,
    "deletable": true,
    "editable": true
   },
   "outputs": [
    {
     "name": "stdout",
     "output_type": "stream",
     "text": [
      "Tests Passed\n"
     ]
    }
   ],
   "source": [
    "def build_rnn(cell, inputs):\n",
    "    \"\"\"\n",
    "    Create a RNN using a RNN Cell\n",
    "    :param cell: RNN Cell\n",
    "    :param inputs: Input text data\n",
    "    :return: Tuple (Outputs, Final State)\n",
    "    \"\"\"\n",
    "\n",
    "    outputs, final_state = tf.nn.dynamic_rnn(cell, inputs,\n",
    "                                             dtype=tf.float32)\n",
    "    \n",
    "    final_state = tf.identity(final_state, name='final_state')\n",
    "    return outputs, final_state\n",
    "\n",
    "\n",
    "\"\"\"\n",
    "DON'T MODIFY ANYTHING IN THIS CELL THAT IS BELOW THIS LINE\n",
    "\"\"\"\n",
    "tests.test_build_rnn(build_rnn)"
   ]
  },
  {
   "cell_type": "markdown",
   "metadata": {
    "deletable": true,
    "editable": true
   },
   "source": [
    "### Build the Neural Network\n",
    "Apply the functions you implemented above to:\n",
    "- Apply embedding to `input_data` using your `get_embed(input_data, vocab_size, embed_dim)` function.\n",
    "- Build RNN using `cell` and your `build_rnn(cell, inputs)` function.\n",
    "- Apply a fully connected layer with a linear activation and `vocab_size` as the number of outputs.\n",
    "\n",
    "Return the logits and final state in the following tuple (Logits, FinalState) "
   ]
  },
  {
   "cell_type": "code",
   "execution_count": 12,
   "metadata": {
    "collapsed": false,
    "deletable": true,
    "editable": true
   },
   "outputs": [
    {
     "name": "stdout",
     "output_type": "stream",
     "text": [
      "Tests Passed\n"
     ]
    }
   ],
   "source": [
    "def build_nn(cell, rnn_size, input_data, vocab_size):\n",
    "    \"\"\"\n",
    "    Build part of the neural network\n",
    "    :param cell: RNN cell\n",
    "    :param rnn_size: Size of rnns\n",
    "    :param input_data: Input data\n",
    "    :param vocab_size: Vocabulary size\n",
    "    :return: Tuple (Logits, FinalState)\n",
    "    \"\"\"\n",
    "    embed = get_embed(input_data, vocab_size, rnn_size)\n",
    "    outputs, final_state = build_rnn(cell, embed)\n",
    "    logits = tf.contrib.layers.fully_connected(outputs, vocab_size, activation_fn=None)\n",
    "    return logits, final_state\n",
    "\n",
    "\n",
    "\"\"\"\n",
    "DON'T MODIFY ANYTHING IN THIS CELL THAT IS BELOW THIS LINE\n",
    "\"\"\"\n",
    "tests.test_build_nn(build_nn)"
   ]
  },
  {
   "cell_type": "markdown",
   "metadata": {
    "deletable": true,
    "editable": true
   },
   "source": [
    "### Batches\n",
    "Implement `get_batches` to create batches of input and targets using `int_text`.  The batches should be a Numpy array with the shape `(number of batches, 2, batch size, sequence length)`. Each batch contains two elements:\n",
    "- The first element is a single batch of **input** with the shape `[batch size, sequence length]`\n",
    "- The second element is a single batch of **targets** with the shape `[batch size, sequence length]`\n",
    "\n",
    "If you can't fill the last batch with enough data, drop the last batch.\n",
    "\n",
    "For exmple, `get_batches([1, 2, 3, 4, 5, 6, 7, 8, 9, 10, 11, 12, 13, 14, 15], 2, 3)` would return a Numpy array of the following:\n",
    "```\n",
    "[\n",
    "  # First Batch\n",
    "  [\n",
    "    # Batch of Input\n",
    "    [[ 1  2  3], [ 7  8  9]],\n",
    "    # Batch of targets\n",
    "    [[ 2  3  4], [ 8  9 10]]\n",
    "  ],\n",
    " \n",
    "  # Second Batch\n",
    "  [\n",
    "    # Batch of Input\n",
    "    [[ 4  5  6], [10 11 12]],\n",
    "    # Batch of targets\n",
    "    [[ 5  6  7], [11 12 13]]\n",
    "  ]\n",
    "]\n",
    "```"
   ]
  },
  {
   "cell_type": "code",
   "execution_count": 13,
   "metadata": {
    "collapsed": false,
    "deletable": true,
    "editable": true
   },
   "outputs": [
    {
     "name": "stdout",
     "output_type": "stream",
     "text": [
      "Tests Passed\n"
     ]
    }
   ],
   "source": [
    "def get_batches(int_text, batch_size, seq_length):\n",
    "    \"\"\"\n",
    "    Return batches of input and target\n",
    "    :param int_text: Text with the words replaced by their ids\n",
    "    :param batch_size: The size of batch\n",
    "    :param seq_length: The length of sequence\n",
    "    :return: Batches as a Numpy array\n",
    "    \"\"\"\n",
    "    # TODO: Implement Function\n",
    "    n_batch = len(int_text)//(batch_size*seq_length)\n",
    "    x_data = np.array(int_text[:batch_size*seq_length*n_batch])\n",
    "    y_data = np.array(int_text[1:batch_size*seq_length*n_batch+1])\n",
    "    x_batches = np.split(x_data.reshape(batch_size, -1), n_batch, 1)\n",
    "    y_batches = np.split(y_data.reshape(batch_size, -1), n_batch, 1)\n",
    "    \n",
    "\n",
    "    return np.array(list(zip(x_batches, y_batches)))\n",
    "\n",
    "\n",
    "\"\"\"\n",
    "DON'T MODIFY ANYTHING IN THIS CELL THAT IS BELOW THIS LINE\n",
    "\"\"\"\n",
    "tests.test_get_batches(get_batches)"
   ]
  },
  {
   "cell_type": "markdown",
   "metadata": {
    "deletable": true,
    "editable": true
   },
   "source": [
    "## Neural Network Training\n",
    "### Hyperparameters\n",
    "Tune the following parameters:\n",
    "\n",
    "- Set `num_epochs` to the number of epochs.\n",
    "- Set `batch_size` to the batch size.\n",
    "- Set `rnn_size` to the size of the RNNs.\n",
    "- Set `seq_length` to the length of sequence.\n",
    "- Set `learning_rate` to the learning rate.\n",
    "- Set `show_every_n_batches` to the number of batches the neural network should print progress."
   ]
  },
  {
   "cell_type": "code",
   "execution_count": 14,
   "metadata": {
    "collapsed": true,
    "deletable": true,
    "editable": true
   },
   "outputs": [],
   "source": [
    "# Number of Epochs\n",
    "num_epochs = 1000\n",
    "# Batch Size\n",
    "batch_size = 256\n",
    "# RNN Size\n",
    "rnn_size = 256\n",
    "# Sequence Length\n",
    "seq_length = 20\n",
    "# Learning Rate\n",
    "learning_rate = 0.01\n",
    "# Show stats for every n number of batches\n",
    "show_every_n_batches = 50\n",
    "\n",
    "\"\"\"\n",
    "DON'T MODIFY ANYTHING IN THIS CELL THAT IS BELOW THIS LINE\n",
    "\"\"\"\n",
    "save_dir = './save'"
   ]
  },
  {
   "cell_type": "markdown",
   "metadata": {
    "deletable": true,
    "editable": true
   },
   "source": [
    "### Build the Graph\n",
    "Build the graph using the neural network you implemented."
   ]
  },
  {
   "cell_type": "code",
   "execution_count": 15,
   "metadata": {
    "collapsed": false,
    "deletable": true,
    "editable": true
   },
   "outputs": [],
   "source": [
    "\"\"\"\n",
    "DON'T MODIFY ANYTHING IN THIS CELL\n",
    "\"\"\"\n",
    "from tensorflow.contrib import seq2seq\n",
    "\n",
    "train_graph = tf.Graph()\n",
    "with train_graph.as_default():\n",
    "    vocab_size = len(int_to_vocab)\n",
    "    input_text, targets, lr = get_inputs()\n",
    "    input_data_shape = tf.shape(input_text)\n",
    "    cell, initial_state = get_init_cell(input_data_shape[0], rnn_size)\n",
    "    logits, final_state = build_nn(cell, rnn_size, input_text, vocab_size)\n",
    "\n",
    "    # Probabilities for generating words\n",
    "    probs = tf.nn.softmax(logits, name='probs')\n",
    "\n",
    "    # Loss function\n",
    "    cost = seq2seq.sequence_loss(\n",
    "        logits,\n",
    "        targets,\n",
    "        tf.ones([input_data_shape[0], input_data_shape[1]]))\n",
    "\n",
    "    # Optimizer\n",
    "    optimizer = tf.train.AdamOptimizer(lr)\n",
    "\n",
    "    # Gradient Clipping\n",
    "    gradients = optimizer.compute_gradients(cost)\n",
    "    capped_gradients = [(tf.clip_by_value(grad, -1., 1.), var) for grad, var in gradients]\n",
    "    train_op = optimizer.apply_gradients(capped_gradients)"
   ]
  },
  {
   "cell_type": "markdown",
   "metadata": {
    "deletable": true,
    "editable": true
   },
   "source": [
    "## Train\n",
    "Train the neural network on the preprocessed data.  If you have a hard time getting a good loss, check the [forms](https://discussions.udacity.com/) to see if anyone is having the same problem."
   ]
  },
  {
   "cell_type": "code",
   "execution_count": 16,
   "metadata": {
    "collapsed": false,
    "deletable": true,
    "editable": true
   },
   "outputs": [
    {
     "name": "stdout",
     "output_type": "stream",
     "text": [
      "Epoch   0 Batch    0/13   train_loss = 8.822\n",
      "Epoch   3 Batch   11/13   train_loss = 6.094\n",
      "Epoch   7 Batch    9/13   train_loss = 6.061\n",
      "Epoch  11 Batch    7/13   train_loss = 6.136\n",
      "Epoch  15 Batch    5/13   train_loss = 6.016\n",
      "Epoch  19 Batch    3/13   train_loss = 6.074\n",
      "Epoch  23 Batch    1/13   train_loss = 6.053\n",
      "Epoch  26 Batch   12/13   train_loss = 6.132\n",
      "Epoch  30 Batch   10/13   train_loss = 6.116\n",
      "Epoch  34 Batch    8/13   train_loss = 6.038\n",
      "Epoch  38 Batch    6/13   train_loss = 6.101\n",
      "Epoch  42 Batch    4/13   train_loss = 6.084\n",
      "Epoch  46 Batch    2/13   train_loss = 5.991\n",
      "Epoch  50 Batch    0/13   train_loss = 6.050\n",
      "Epoch  53 Batch   11/13   train_loss = 6.076\n",
      "Epoch  57 Batch    9/13   train_loss = 6.054\n",
      "Epoch  61 Batch    7/13   train_loss = 6.113\n",
      "Epoch  65 Batch    5/13   train_loss = 5.982\n",
      "Epoch  69 Batch    3/13   train_loss = 6.052\n",
      "Epoch  73 Batch    1/13   train_loss = 6.015\n",
      "Epoch  76 Batch   12/13   train_loss = 6.080\n",
      "Epoch  80 Batch   10/13   train_loss = 6.049\n",
      "Epoch  84 Batch    8/13   train_loss = 5.959\n",
      "Epoch  88 Batch    6/13   train_loss = 6.000\n",
      "Epoch  92 Batch    4/13   train_loss = 5.971\n",
      "Epoch  96 Batch    2/13   train_loss = 5.912\n",
      "Epoch 100 Batch    0/13   train_loss = 5.923\n",
      "Epoch 103 Batch   11/13   train_loss = 5.960\n",
      "Epoch 107 Batch    9/13   train_loss = 5.946\n",
      "Epoch 111 Batch    7/13   train_loss = 5.994\n",
      "Epoch 115 Batch    5/13   train_loss = 5.674\n",
      "Epoch 119 Batch    3/13   train_loss = 5.581\n",
      "Epoch 123 Batch    1/13   train_loss = 5.369\n",
      "Epoch 126 Batch   12/13   train_loss = 5.324\n",
      "Epoch 130 Batch   10/13   train_loss = 5.165\n",
      "Epoch 134 Batch    8/13   train_loss = 4.950\n",
      "Epoch 138 Batch    6/13   train_loss = 4.883\n",
      "Epoch 142 Batch    4/13   train_loss = 4.774\n",
      "Epoch 146 Batch    2/13   train_loss = 4.635\n",
      "Epoch 150 Batch    0/13   train_loss = 4.545\n",
      "Epoch 153 Batch   11/13   train_loss = 4.506\n",
      "Epoch 157 Batch    9/13   train_loss = 4.419\n",
      "Epoch 161 Batch    7/13   train_loss = 4.359\n",
      "Epoch 165 Batch    5/13   train_loss = 4.282\n",
      "Epoch 169 Batch    3/13   train_loss = 4.252\n",
      "Epoch 173 Batch    1/13   train_loss = 4.154\n",
      "Epoch 176 Batch   12/13   train_loss = 4.146\n",
      "Epoch 180 Batch   10/13   train_loss = 4.086\n",
      "Epoch 184 Batch    8/13   train_loss = 3.957\n",
      "Epoch 188 Batch    6/13   train_loss = 3.942\n",
      "Epoch 192 Batch    4/13   train_loss = 3.876\n",
      "Epoch 196 Batch    2/13   train_loss = 3.862\n",
      "Epoch 200 Batch    0/13   train_loss = 3.761\n",
      "Epoch 203 Batch   11/13   train_loss = 3.766\n",
      "Epoch 207 Batch    9/13   train_loss = 3.656\n",
      "Epoch 211 Batch    7/13   train_loss = 3.629\n",
      "Epoch 215 Batch    5/13   train_loss = 3.624\n",
      "Epoch 219 Batch    3/13   train_loss = 3.632\n",
      "Epoch 223 Batch    1/13   train_loss = 3.488\n",
      "Epoch 226 Batch   12/13   train_loss = 3.486\n",
      "Epoch 230 Batch   10/13   train_loss = 3.458\n",
      "Epoch 234 Batch    8/13   train_loss = 3.359\n",
      "Epoch 238 Batch    6/13   train_loss = 3.331\n",
      "Epoch 242 Batch    4/13   train_loss = 3.307\n",
      "Epoch 246 Batch    2/13   train_loss = 3.288\n",
      "Epoch 250 Batch    0/13   train_loss = 3.222\n",
      "Epoch 253 Batch   11/13   train_loss = 3.155\n",
      "Epoch 257 Batch    9/13   train_loss = 3.105\n",
      "Epoch 261 Batch    7/13   train_loss = 3.055\n",
      "Epoch 265 Batch    5/13   train_loss = 3.136\n",
      "Epoch 269 Batch    3/13   train_loss = 3.112\n",
      "Epoch 273 Batch    1/13   train_loss = 2.996\n",
      "Epoch 276 Batch   12/13   train_loss = 3.020\n",
      "Epoch 280 Batch   10/13   train_loss = 2.959\n",
      "Epoch 284 Batch    8/13   train_loss = 2.936\n",
      "Epoch 288 Batch    6/13   train_loss = 2.872\n",
      "Epoch 292 Batch    4/13   train_loss = 2.882\n",
      "Epoch 296 Batch    2/13   train_loss = 2.900\n",
      "Epoch 300 Batch    0/13   train_loss = 2.807\n",
      "Epoch 303 Batch   11/13   train_loss = 2.775\n",
      "Epoch 307 Batch    9/13   train_loss = 2.686\n",
      "Epoch 311 Batch    7/13   train_loss = 2.703\n",
      "Epoch 315 Batch    5/13   train_loss = 2.779\n",
      "Epoch 319 Batch    3/13   train_loss = 2.790\n",
      "Epoch 323 Batch    1/13   train_loss = 2.680\n",
      "Epoch 326 Batch   12/13   train_loss = 2.701\n",
      "Epoch 330 Batch   10/13   train_loss = 2.700\n",
      "Epoch 334 Batch    8/13   train_loss = 2.632\n",
      "Epoch 338 Batch    6/13   train_loss = 2.622\n",
      "Epoch 342 Batch    4/13   train_loss = 2.604\n",
      "Epoch 346 Batch    2/13   train_loss = 2.624\n",
      "Epoch 350 Batch    0/13   train_loss = 2.608\n",
      "Epoch 353 Batch   11/13   train_loss = 2.581\n",
      "Epoch 357 Batch    9/13   train_loss = 2.487\n",
      "Epoch 361 Batch    7/13   train_loss = 2.479\n",
      "Epoch 365 Batch    5/13   train_loss = 2.553\n",
      "Epoch 369 Batch    3/13   train_loss = 2.584\n",
      "Epoch 373 Batch    1/13   train_loss = 2.491\n",
      "Epoch 376 Batch   12/13   train_loss = 2.493\n",
      "Epoch 380 Batch   10/13   train_loss = 2.520\n",
      "Epoch 384 Batch    8/13   train_loss = 2.452\n",
      "Epoch 388 Batch    6/13   train_loss = 2.405\n",
      "Epoch 392 Batch    4/13   train_loss = 2.420\n",
      "Epoch 396 Batch    2/13   train_loss = 2.466\n",
      "Epoch 400 Batch    0/13   train_loss = 2.423\n",
      "Epoch 403 Batch   11/13   train_loss = 2.360\n",
      "Epoch 407 Batch    9/13   train_loss = 2.339\n",
      "Epoch 411 Batch    7/13   train_loss = 2.343\n",
      "Epoch 415 Batch    5/13   train_loss = 2.395\n",
      "Epoch 419 Batch    3/13   train_loss = 2.435\n",
      "Epoch 423 Batch    1/13   train_loss = 2.320\n",
      "Epoch 426 Batch   12/13   train_loss = 2.340\n",
      "Epoch 430 Batch   10/13   train_loss = 2.365\n",
      "Epoch 434 Batch    8/13   train_loss = 2.319\n",
      "Epoch 438 Batch    6/13   train_loss = 2.278\n",
      "Epoch 442 Batch    4/13   train_loss = 2.299\n",
      "Epoch 446 Batch    2/13   train_loss = 2.340\n",
      "Epoch 450 Batch    0/13   train_loss = 2.317\n",
      "Epoch 453 Batch   11/13   train_loss = 2.272\n",
      "Epoch 457 Batch    9/13   train_loss = 2.198\n",
      "Epoch 461 Batch    7/13   train_loss = 2.182\n",
      "Epoch 465 Batch    5/13   train_loss = 2.290\n",
      "Epoch 469 Batch    3/13   train_loss = 2.289\n",
      "Epoch 473 Batch    1/13   train_loss = 2.223\n",
      "Epoch 476 Batch   12/13   train_loss = 2.217\n",
      "Epoch 480 Batch   10/13   train_loss = 2.253\n",
      "Epoch 484 Batch    8/13   train_loss = 2.227\n",
      "Epoch 488 Batch    6/13   train_loss = 2.202\n",
      "Epoch 492 Batch    4/13   train_loss = 2.211\n",
      "Epoch 496 Batch    2/13   train_loss = 2.234\n",
      "Epoch 500 Batch    0/13   train_loss = 2.243\n",
      "Epoch 503 Batch   11/13   train_loss = 2.173\n",
      "Epoch 507 Batch    9/13   train_loss = 2.151\n",
      "Epoch 511 Batch    7/13   train_loss = 2.099\n",
      "Epoch 515 Batch    5/13   train_loss = 2.169\n",
      "Epoch 519 Batch    3/13   train_loss = 2.194\n",
      "Epoch 523 Batch    1/13   train_loss = 2.170\n",
      "Epoch 526 Batch   12/13   train_loss = 2.143\n",
      "Epoch 530 Batch   10/13   train_loss = 2.164\n",
      "Epoch 534 Batch    8/13   train_loss = 2.182\n",
      "Epoch 538 Batch    6/13   train_loss = 2.126\n",
      "Epoch 542 Batch    4/13   train_loss = 2.182\n",
      "Epoch 546 Batch    2/13   train_loss = 2.171\n",
      "Epoch 550 Batch    0/13   train_loss = 2.179\n",
      "Epoch 553 Batch   11/13   train_loss = 2.093\n",
      "Epoch 557 Batch    9/13   train_loss = 2.113\n",
      "Epoch 561 Batch    7/13   train_loss = 2.045\n",
      "Epoch 565 Batch    5/13   train_loss = 2.138\n",
      "Epoch 569 Batch    3/13   train_loss = 2.111\n",
      "Epoch 573 Batch    1/13   train_loss = 2.093\n",
      "Epoch 576 Batch   12/13   train_loss = 2.078\n",
      "Epoch 580 Batch   10/13   train_loss = 2.159\n",
      "Epoch 584 Batch    8/13   train_loss = 2.114\n",
      "Epoch 588 Batch    6/13   train_loss = 2.061\n",
      "Epoch 592 Batch    4/13   train_loss = 2.109\n",
      "Epoch 596 Batch    2/13   train_loss = 2.117\n",
      "Epoch 600 Batch    0/13   train_loss = 2.127\n",
      "Epoch 603 Batch   11/13   train_loss = 2.055\n",
      "Epoch 607 Batch    9/13   train_loss = 2.049\n",
      "Epoch 611 Batch    7/13   train_loss = 2.008\n",
      "Epoch 615 Batch    5/13   train_loss = 2.092\n",
      "Epoch 619 Batch    3/13   train_loss = 2.112\n",
      "Epoch 623 Batch    1/13   train_loss = 2.028\n",
      "Epoch 626 Batch   12/13   train_loss = 2.034\n",
      "Epoch 630 Batch   10/13   train_loss = 2.088\n",
      "Epoch 634 Batch    8/13   train_loss = 2.074\n",
      "Epoch 638 Batch    6/13   train_loss = 2.065\n",
      "Epoch 642 Batch    4/13   train_loss = 2.049\n",
      "Epoch 646 Batch    2/13   train_loss = 2.048\n",
      "Epoch 650 Batch    0/13   train_loss = 2.075\n",
      "Epoch 653 Batch   11/13   train_loss = 1.957\n",
      "Epoch 657 Batch    9/13   train_loss = 1.952\n",
      "Epoch 661 Batch    7/13   train_loss = 1.961\n",
      "Epoch 665 Batch    5/13   train_loss = 1.999\n",
      "Epoch 669 Batch    3/13   train_loss = 2.066\n",
      "Epoch 673 Batch    1/13   train_loss = 1.985\n",
      "Epoch 676 Batch   12/13   train_loss = 1.956\n",
      "Epoch 680 Batch   10/13   train_loss = 2.039\n",
      "Epoch 684 Batch    8/13   train_loss = 2.050\n",
      "Epoch 688 Batch    6/13   train_loss = 1.970\n",
      "Epoch 692 Batch    4/13   train_loss = 2.024\n",
      "Epoch 696 Batch    2/13   train_loss = 1.985\n",
      "Epoch 700 Batch    0/13   train_loss = 2.025\n",
      "Epoch 703 Batch   11/13   train_loss = 1.943\n",
      "Epoch 707 Batch    9/13   train_loss = 1.935\n",
      "Epoch 711 Batch    7/13   train_loss = 1.907\n",
      "Epoch 715 Batch    5/13   train_loss = 2.009\n",
      "Epoch 719 Batch    3/13   train_loss = 2.010\n",
      "Epoch 723 Batch    1/13   train_loss = 1.988\n",
      "Epoch 726 Batch   12/13   train_loss = 1.951\n",
      "Epoch 730 Batch   10/13   train_loss = 1.974\n",
      "Epoch 734 Batch    8/13   train_loss = 1.957\n",
      "Epoch 738 Batch    6/13   train_loss = 1.943\n",
      "Epoch 742 Batch    4/13   train_loss = 1.937\n",
      "Epoch 746 Batch    2/13   train_loss = 1.973\n",
      "Epoch 750 Batch    0/13   train_loss = 1.941\n",
      "Epoch 753 Batch   11/13   train_loss = 1.910\n",
      "Epoch 757 Batch    9/13   train_loss = 1.908\n",
      "Epoch 761 Batch    7/13   train_loss = 1.887\n",
      "Epoch 765 Batch    5/13   train_loss = 1.980\n",
      "Epoch 769 Batch    3/13   train_loss = 2.003\n",
      "Epoch 773 Batch    1/13   train_loss = 1.920\n",
      "Epoch 776 Batch   12/13   train_loss = 1.897\n",
      "Epoch 780 Batch   10/13   train_loss = 1.937\n",
      "Epoch 784 Batch    8/13   train_loss = 1.969\n",
      "Epoch 788 Batch    6/13   train_loss = 1.915\n",
      "Epoch 792 Batch    4/13   train_loss = 1.937\n",
      "Epoch 796 Batch    2/13   train_loss = 1.961\n",
      "Epoch 800 Batch    0/13   train_loss = 2.014\n",
      "Epoch 803 Batch   11/13   train_loss = 1.897\n",
      "Epoch 807 Batch    9/13   train_loss = 1.878\n",
      "Epoch 811 Batch    7/13   train_loss = 1.867\n",
      "Epoch 815 Batch    5/13   train_loss = 1.939\n",
      "Epoch 819 Batch    3/13   train_loss = 1.944\n",
      "Epoch 823 Batch    1/13   train_loss = 1.893\n",
      "Epoch 826 Batch   12/13   train_loss = 1.870\n",
      "Epoch 830 Batch   10/13   train_loss = 1.938\n",
      "Epoch 834 Batch    8/13   train_loss = 1.898\n",
      "Epoch 838 Batch    6/13   train_loss = 1.933\n",
      "Epoch 842 Batch    4/13   train_loss = 1.901\n",
      "Epoch 846 Batch    2/13   train_loss = 1.948\n",
      "Epoch 850 Batch    0/13   train_loss = 1.899\n",
      "Epoch 853 Batch   11/13   train_loss = 1.879\n",
      "Epoch 857 Batch    9/13   train_loss = 1.833\n",
      "Epoch 861 Batch    7/13   train_loss = 1.848\n",
      "Epoch 865 Batch    5/13   train_loss = 1.957\n",
      "Epoch 869 Batch    3/13   train_loss = 1.911\n",
      "Epoch 873 Batch    1/13   train_loss = 1.893\n",
      "Epoch 876 Batch   12/13   train_loss = 1.872\n",
      "Epoch 880 Batch   10/13   train_loss = 1.875\n",
      "Epoch 884 Batch    8/13   train_loss = 1.917\n",
      "Epoch 888 Batch    6/13   train_loss = 1.872\n",
      "Epoch 892 Batch    4/13   train_loss = 1.857\n",
      "Epoch 896 Batch    2/13   train_loss = 1.853\n",
      "Epoch 900 Batch    0/13   train_loss = 1.936\n",
      "Epoch 903 Batch   11/13   train_loss = 1.797\n",
      "Epoch 907 Batch    9/13   train_loss = 1.809\n",
      "Epoch 911 Batch    7/13   train_loss = 1.817\n",
      "Epoch 915 Batch    5/13   train_loss = 1.894\n",
      "Epoch 919 Batch    3/13   train_loss = 1.871\n",
      "Epoch 923 Batch    1/13   train_loss = 1.850\n",
      "Epoch 926 Batch   12/13   train_loss = 1.824\n",
      "Epoch 930 Batch   10/13   train_loss = 1.871\n",
      "Epoch 934 Batch    8/13   train_loss = 1.900\n",
      "Epoch 938 Batch    6/13   train_loss = 1.841\n",
      "Epoch 942 Batch    4/13   train_loss = 1.839\n",
      "Epoch 946 Batch    2/13   train_loss = 1.878\n",
      "Epoch 950 Batch    0/13   train_loss = 1.897\n",
      "Epoch 953 Batch   11/13   train_loss = 1.846\n",
      "Epoch 957 Batch    9/13   train_loss = 1.814\n",
      "Epoch 961 Batch    7/13   train_loss = 1.813\n",
      "Epoch 965 Batch    5/13   train_loss = 1.860\n",
      "Epoch 969 Batch    3/13   train_loss = 1.863\n",
      "Epoch 973 Batch    1/13   train_loss = 1.787\n",
      "Epoch 976 Batch   12/13   train_loss = 1.844\n",
      "Epoch 980 Batch   10/13   train_loss = 1.844\n",
      "Epoch 984 Batch    8/13   train_loss = 1.859\n",
      "Epoch 988 Batch    6/13   train_loss = 1.858\n",
      "Epoch 992 Batch    4/13   train_loss = 1.821\n",
      "Epoch 996 Batch    2/13   train_loss = 1.820\n",
      "Model Trained and Saved\n"
     ]
    }
   ],
   "source": [
    "\"\"\"\n",
    "DON'T MODIFY ANYTHING IN THIS CELL\n",
    "\"\"\"\n",
    "batches = get_batches(int_text, batch_size, seq_length)\n",
    "\n",
    "with tf.Session(graph=train_graph) as sess:\n",
    "    sess.run(tf.global_variables_initializer())\n",
    "\n",
    "    for epoch_i in range(num_epochs):\n",
    "        state = sess.run(initial_state, {input_text: batches[0][0]})\n",
    "\n",
    "        for batch_i, (x, y) in enumerate(batches):\n",
    "            feed = {\n",
    "                input_text: x,\n",
    "                targets: y,\n",
    "                initial_state: state,\n",
    "                lr: learning_rate}\n",
    "            train_loss, state, _ = sess.run([cost, final_state, train_op], feed)\n",
    "\n",
    "            # Show every <show_every_n_batches> batches\n",
    "            if (epoch_i * len(batches) + batch_i) % show_every_n_batches == 0:\n",
    "                print('Epoch {:>3} Batch {:>4}/{}   train_loss = {:.3f}'.format(\n",
    "                    epoch_i,\n",
    "                    batch_i,\n",
    "                    len(batches),\n",
    "                    train_loss))\n",
    "\n",
    "    # Save Model\n",
    "    saver = tf.train.Saver()\n",
    "    saver.save(sess, save_dir)\n",
    "    print('Model Trained and Saved')"
   ]
  },
  {
   "cell_type": "markdown",
   "metadata": {
    "deletable": true,
    "editable": true
   },
   "source": [
    "## Save Parameters\n",
    "Save `seq_length` and `save_dir` for generating a new TV script."
   ]
  },
  {
   "cell_type": "code",
   "execution_count": 17,
   "metadata": {
    "collapsed": false,
    "deletable": true,
    "editable": true
   },
   "outputs": [],
   "source": [
    "\"\"\"\n",
    "DON'T MODIFY ANYTHING IN THIS CELL\n",
    "\"\"\"\n",
    "# Save parameters for checkpoint\n",
    "helper.save_params((seq_length, save_dir))"
   ]
  },
  {
   "cell_type": "markdown",
   "metadata": {
    "deletable": true,
    "editable": true
   },
   "source": [
    "# Checkpoint"
   ]
  },
  {
   "cell_type": "code",
   "execution_count": 18,
   "metadata": {
    "collapsed": false,
    "deletable": true,
    "editable": true
   },
   "outputs": [],
   "source": [
    "\"\"\"\n",
    "DON'T MODIFY ANYTHING IN THIS CELL\n",
    "\"\"\"\n",
    "import tensorflow as tf\n",
    "import numpy as np\n",
    "import helper\n",
    "import problem_unittests as tests\n",
    "\n",
    "_, vocab_to_int, int_to_vocab, token_dict = helper.load_preprocess()\n",
    "seq_length, load_dir = helper.load_params()"
   ]
  },
  {
   "cell_type": "markdown",
   "metadata": {
    "deletable": true,
    "editable": true
   },
   "source": [
    "## Implement Generate Functions\n",
    "### Get Tensors\n",
    "Get tensors from `loaded_graph` using the function [`get_tensor_by_name()`](https://www.tensorflow.org/api_docs/python/tf/Graph#get_tensor_by_name).  Get the tensors using the following names:\n",
    "- \"input:0\"\n",
    "- \"initial_state:0\"\n",
    "- \"final_state:0\"\n",
    "- \"probs:0\"\n",
    "\n",
    "Return the tensors in the following tuple `(InputTensor, InitialStateTensor, FinalStateTensor, ProbsTensor)` "
   ]
  },
  {
   "cell_type": "code",
   "execution_count": 19,
   "metadata": {
    "collapsed": false,
    "deletable": true,
    "editable": true
   },
   "outputs": [
    {
     "name": "stdout",
     "output_type": "stream",
     "text": [
      "Tests Passed\n"
     ]
    }
   ],
   "source": [
    "def get_tensors(loaded_graph):\n",
    "    \"\"\"\n",
    "    Get input, initial state, final state, and probabilities tensor from <loaded_graph>\n",
    "    :param loaded_graph: TensorFlow graph loaded from file\n",
    "    :return: Tuple (InputTensor, InitialStateTensor, FinalStateTensor, ProbsTensor)\n",
    "    \"\"\"\n",
    "    # TODO: Implement Function\n",
    "    inputs = loaded_graph.get_tensor_by_name(\"input:0\")\n",
    "    initial_state = loaded_graph.get_tensor_by_name(\"initial_state:0\")\n",
    "    final_state = loaded_graph.get_tensor_by_name(\"final_state:0\")\n",
    "    probs = loaded_graph.get_tensor_by_name(\"probs:0\")\n",
    "    \n",
    "    return inputs, initial_state, final_state, probs\n",
    "\n",
    "\n",
    "\"\"\"\n",
    "DON'T MODIFY ANYTHING IN THIS CELL THAT IS BELOW THIS LINE\n",
    "\"\"\"\n",
    "tests.test_get_tensors(get_tensors)"
   ]
  },
  {
   "cell_type": "markdown",
   "metadata": {
    "deletable": true,
    "editable": true
   },
   "source": [
    "### Choose Word\n",
    "Implement the `pick_word()` function to select the next word using `probabilities`."
   ]
  },
  {
   "cell_type": "code",
   "execution_count": 20,
   "metadata": {
    "collapsed": false,
    "deletable": true,
    "editable": true
   },
   "outputs": [
    {
     "name": "stdout",
     "output_type": "stream",
     "text": [
      "Tests Passed\n"
     ]
    }
   ],
   "source": [
    "def pick_word(probabilities, int_to_vocab):\n",
    "    \"\"\"\n",
    "    Pick the next word in the generated text\n",
    "    :param probabilities: Probabilites of the next word\n",
    "    :param int_to_vocab: Dictionary of word ids as the keys and words as the values\n",
    "    :return: String of the predicted word\n",
    "    \"\"\"\n",
    "    # TODO: Implement Function\n",
    "    return int_to_vocab[np.argmax(probabilities)]\n",
    "\n",
    "\n",
    "\"\"\"\n",
    "DON'T MODIFY ANYTHING IN THIS CELL THAT IS BELOW THIS LINE\n",
    "\"\"\"\n",
    "tests.test_pick_word(pick_word)"
   ]
  },
  {
   "cell_type": "markdown",
   "metadata": {
    "deletable": true,
    "editable": true
   },
   "source": [
    "## Generate TV Script\n",
    "This will generate the TV script for you.  Set `gen_length` to the length of TV script you want to generate."
   ]
  },
  {
   "cell_type": "code",
   "execution_count": 21,
   "metadata": {
    "collapsed": false,
    "deletable": true,
    "editable": true
   },
   "outputs": [
    {
     "name": "stdout",
     "output_type": "stream",
     "text": [
      "moe_szyslak:(happy) look i get you...(pats head) your huggenkiss!\n",
      "bart_simpson:(counting glass) i know is a friend!(belches) well, homer's first put?\n",
      "seymour_skinner:(dead)\" are sweet home to like a dad.\n",
      "moe_szyslak:(sings) tough, my jerk. that's hope, homer. don't need a lot in two power. i ain't be a dog...\n",
      "moe_szyslak:(increasingly noises)\n",
      "barney_gumble: now, moe.\n",
      "hans:(impressed) what are them better eyes...\n",
      "moe_szyslak:(hopeful) simp-sonnnn on you. turn a mind you hell a day at water.\n",
      "moe_szyslak:(nods) i shut to be it.\n",
      "moe_szyslak:(calling to her) whee...\n",
      "homer_simpson:(sings) oh guys, i'm great. i know. i got to made my thorn of my mouth.\n",
      "homer_simpson:(to camera) but then the big kid, moe. you lot it a bar in the power. stupid great.(\n"
     ]
    }
   ],
   "source": [
    "gen_length = 200\n",
    "# homer_simpson, moe_szyslak, or Barney_Gumble\n",
    "prime_word = 'moe_szyslak'\n",
    "\n",
    "\"\"\"\n",
    "DON'T MODIFY ANYTHING IN THIS CELL THAT IS BELOW THIS LINE\n",
    "\"\"\"\n",
    "loaded_graph = tf.Graph()\n",
    "with tf.Session(graph=loaded_graph) as sess:\n",
    "    # Load saved model\n",
    "    loader = tf.train.import_meta_graph(load_dir + '.meta')\n",
    "    loader.restore(sess, load_dir)\n",
    "\n",
    "    # Get Tensors from loaded model\n",
    "    input_text, initial_state, final_state, probs = get_tensors(loaded_graph)\n",
    "\n",
    "    # Sentences generation setup\n",
    "    gen_sentences = [prime_word + ':']\n",
    "    prev_state = sess.run(initial_state, {input_text: np.array([[1]])})\n",
    "\n",
    "    # Generate sentences\n",
    "    for n in range(gen_length):\n",
    "        # Dynamic Input\n",
    "        dyn_input = [[vocab_to_int[word] for word in gen_sentences[-seq_length:]]]\n",
    "        dyn_seq_length = len(dyn_input[0])\n",
    "\n",
    "        # Get Prediction\n",
    "        probabilities, prev_state = sess.run(\n",
    "            [probs, final_state],\n",
    "            {input_text: dyn_input, initial_state: prev_state})\n",
    "        \n",
    "        pred_word = pick_word(probabilities[dyn_seq_length-1], int_to_vocab)\n",
    "\n",
    "        gen_sentences.append(pred_word)\n",
    "    \n",
    "    # Remove tokens\n",
    "    tv_script = ' '.join(gen_sentences)\n",
    "    for key, token in token_dict.items():\n",
    "        ending = ' ' if key in ['\\n', '(', '\"'] else ''\n",
    "        tv_script = tv_script.replace(' ' + token.lower(), key)\n",
    "    tv_script = tv_script.replace('\\n ', '\\n')\n",
    "    tv_script = tv_script.replace('( ', '(')\n",
    "        \n",
    "    print(tv_script)"
   ]
  },
  {
   "cell_type": "markdown",
   "metadata": {
    "deletable": true,
    "editable": true
   },
   "source": [
    "# The TV Script is Nonsensical\n",
    "It's ok if the TV script doesn't make any sense.  We trained on less than a megabyte of text.  In order to get good results, you'll have to use a smaller vocabulary or get more data.  Luckly there's more data!  As we mentioned in the begging of this project, this is a subset of [another dataset](https://www.kaggle.com/wcukierski/the-simpsons-by-the-data).  We didn't have you train on all the data, because that would take too long.  However, you are free to train your neural network on all the data.  After you complete the project, of course.\n",
    "# Submitting This Project\n",
    "When submitting this project, make sure to run all the cells before saving the notebook. Save the notebook file as \"dlnd_tv_script_generation.ipynb\" and save it as a HTML file under \"File\" -> \"Download as\". Include the \"helper.py\" and \"problem_unittests.py\" files in your submission."
   ]
  }
 ],
 "metadata": {
  "kernelspec": {
   "display_name": "Python 3",
   "language": "python",
   "name": "python3"
  },
  "language_info": {
   "codemirror_mode": {
    "name": "ipython",
    "version": 3
   },
   "file_extension": ".py",
   "mimetype": "text/x-python",
   "name": "python",
   "nbconvert_exporter": "python",
   "pygments_lexer": "ipython3",
   "version": "3.5.3"
  }
 },
 "nbformat": 4,
 "nbformat_minor": 0
}
